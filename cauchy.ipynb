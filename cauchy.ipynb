{
 "cells": [
  {
   "cell_type": "code",
   "execution_count": 57,
   "id": "5ba9e82b",
   "metadata": {},
   "outputs": [],
   "source": [
    "import numpy as np\n",
    "import matplotlib.pyplot as plt\n",
    "import scipy.stats as stats\n",
    "\n",
    "n = 50\n",
    "#generowanie probki i wizualizacja\n",
    "lambd = 2\n",
    "data = stats.cauchy.rvs(0,lambd, size=n)\n",
    "plt.hist(data)\n",
    "plt.show()\n"
   ]
  },
  {
   "cell_type": "code",
   "execution_count": 36,
   "id": "b81dddf2",
   "metadata": {},
   "outputs": [],
   "source": [
    "import numpy as np\n",
    "import matplotlib.pyplot as plt\n",
    "import scipy.stats as stats\n",
    "n = 50\n",
    "\n",
    "\n",
    "lambd = 2\n",
    "data = stats.cauchy.rvs(lambd, size=n)\n",
    "scale = np.linspace(1.01,5.01,400)\n",
    "L = np.zeros(400)\n",
    "# funkcja największej wiarygodnośc\n",
    "for i in range(400):\n",
    "    pdf = stats.cauchy.pdf(data,scale[i])\n",
    "    L[i] = np.prod(pdf)\n",
    "plt.plot(scale,L)\n",
    "plt.show()\n"
   ]
  },
  {
   "cell_type": "code",
   "execution_count": 67,
   "id": "52b05c86",
   "metadata": {},
   "outputs": [],
   "source": [
    "import numpy as np\n",
    "import matplotlib.pyplot as plt\n",
    "import scipy.stats as stats\n",
    "N = 1000\n",
    "niepewnosc = np.zeros(N)\n",
    "estymator = np.zeros(N)\n",
    "#tab = np.zeros([N])\n",
    "#tab = stats.cauchy.rvs(2, size=N)\n",
    "for i in range(N):\n",
    "    data = stats.cauchy.rvs(lambd, size=n)\n",
    "    scale = np.linspace(1.01,5.01,400)\n",
    "    for j in range(400):\n",
    "        pdf = stats.cauchy.pdf(data,scale[j])\n",
    "        L[j] = np.prod(pdf)\n",
    "\n",
    "\n",
    "    logL = np.log(L)\n",
    "    MaxLogL = np.max(logL)\n",
    "    indexMaxL = np.argmax(L)\n",
    "    estymator[i] = scale[indexMaxL]\n",
    "\n",
    "    # dolne ograniczenie na niepewność estymatora z twierdzenia Cramera-Rao\n",
    "    dL = np.diff(np.log(L))\n",
    "    dx = np.diff(scale)\n",
    "    dLdx = dL/dx[0]   # pierwsza pochodna\n",
    "    dL2 = np.diff(dLdx)\n",
    "    dL2d2x = dL2/dx[0] # druga pochodna\n",
    "    niepewnosc[i] = np.sqrt(-1/dL2d2x[indexMaxL]) \n",
    "    #print(niepewnosc.mean())"
   ]
  },
  {
   "cell_type": "code",
   "execution_count": 73,
   "id": "3363f413",
   "metadata": {},
   "outputs": [],
   "source": [
    "#rozklad estymatora z MC\n",
    "plt.hist(estymator)\n",
    "plt.show()"
   ]
  },
  {
   "cell_type": "code",
   "execution_count": 68,
   "id": "e3004cb5",
   "metadata": {},
   "outputs": [
    {
     "name": "stdout",
     "output_type": "stream",
     "text": [
      "2.0129774436090226\n",
      "0.21816406538400862\n",
      "0.19927746773168542\n"
     ]
    }
   ],
   "source": [
    "print(estymator.mean())\n",
    "print(estymator.std())\n",
    "print(niepewnosc.mean())"
   ]
  },
  {
   "cell_type": "code",
   "execution_count": 71,
   "id": "8ed2cca7",
   "metadata": {},
   "outputs": [
    {
     "name": "stdout",
     "output_type": "stream",
     "text": [
      "Lewe 0.19 i prawe 0.20  oszacowanie na niepewność estymatora\n"
     ]
    }
   ],
   "source": [
    "# niepewność oszacowana graficznie jako zmiana estymatora odpowiadająca zmianie logarytmu funkcji wiarygodności o 0.5\n",
    "\n",
    "s = np.where(logL>MaxLogL-0.5)\n",
    "uleft=scale[indexMaxL]-scale[s[0][0]]\n",
    "uright=scale[s[0][-1]]-scale[indexMaxL]\n",
    "plt.xlim(scale[indexMaxL]-2*uleft,scale[indexMaxL]+2*uright )\n",
    "plt.ylim(MaxLogL-1.0, MaxLogL+0.1)\n",
    "plt.plot([scale[indexMaxL]-uleft, scale[indexMaxL]-uleft],[MaxLogL-1.0, MaxLogL],color='r')\n",
    "plt.plot([scale[indexMaxL]+uright, scale[indexMaxL]+uright],[MaxLogL-1.0, MaxLogL],color='r')\n",
    "plt.plot(scale,logL)\n",
    "plt.show()\n",
    "print(('Lewe {0:4.2f} i prawe {1:4.2f}  oszacowanie na niepewność estymatora'.format(uleft, uright)))"
   ]
  },
  {
   "cell_type": "code",
   "execution_count": null,
   "id": "d2a962bd",
   "metadata": {},
   "outputs": [],
   "source": []
  }
 ],
 "metadata": {
  "kernelspec": {
   "display_name": "Python 3.10 (XPython)",
   "language": "python",
   "name": "xpython"
  },
  "language_info": {
   "file_extension": ".py",
   "mimetype": "text/x-python",
   "name": "python",
   "version": "3.10.1"
  }
 },
 "nbformat": 4,
 "nbformat_minor": 5
}
