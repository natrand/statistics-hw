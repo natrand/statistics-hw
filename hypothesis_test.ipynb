{
 "cells": [
  {
   "cell_type": "code",
   "execution_count": null,
   "id": "de1cbb73",
   "metadata": {},
   "outputs": [],
   "source": [
    "#zad1\n",
    "import scipy.stats as stats\n",
    "import numpy as np\n",
    "\n",
    "n = 10\n",
    "data = np.array([1.6, 1.7, 1.4, 1.5, 1.9, 1.5, 1.3, 1.4, 1.6, 1.2])\n",
    "srednia = 1.5\n",
    "alfa = 0.05\n",
    "\n",
    "t_statistic, p = stats.ttest_1samp(data, srednia)\n",
    "\n",
    "if p < alfa:\n",
    "    print(\"Mozna odrzucic hipoteze\")\n",
    "else:\n",
    "    print(\"Nie mozna odrzucic hipotezy\")\n",
    "print(p)"
   ]
  },
  {
   "cell_type": "code",
   "execution_count": null,
   "id": "a3c9ca8e",
   "metadata": {},
   "outputs": [],
   "source": [
    "\n",
    "\n",
    "wczesniejsze = np.array([5.9, 6.2, 6.4, 6.6, 6.8, 6.9, 7.0, 7.2, 7.9])\n",
    "pozniejsze = np.array([ 5.1, 5.3, 5.5, 5.6, 5.8, 5.8, 6.2])\n",
    "\n",
    "alfa = 0.05\n",
    "t_statistic, p = stats.ttest_ind(wczesniejsze, pozniejsze)\n",
    "if p < alfa:\n",
    "    print(\"Mozna odrzucic hipoteze\")\n",
    "else:\n",
    "    print(\"Nie mozna odrzucic hipotezy\")\n",
    "print(p)"
   ]
  },
  {
   "cell_type": "code",
   "execution_count": null,
   "id": "c44bf16f",
   "metadata": {},
   "outputs": [],
   "source": [
    "\n",
    "statistic, p = stats.bartlett(wczesniejsze, pozniejsze)\n",
    "if p < alfa:\n",
    "    print(\"Mozna odrzucic hipoteze\")\n",
    "else:\n",
    "    print(\"Nie mozna odrzucic hipotezy\")\n",
    "print(p)"
   ]
  }
 ],
 "metadata": {
  "kernelspec": {
   "display_name": "Python 3 (ipykernel)",
   "language": "python",
   "name": "python3"
  },
  "language_info": {
   "codemirror_mode": {
    "name": "ipython",
    "version": 3
   },
   "file_extension": ".py",
   "mimetype": "text/x-python",
   "name": "python",
   "nbconvert_exporter": "python",
   "pygments_lexer": "ipython3",
   "version": "3.10.9"
  }
 },
 "nbformat": 4,
 "nbformat_minor": 5
}
