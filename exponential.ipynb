{
 "cells": [
  {
   "cell_type": "code",
   "execution_count": 2,
   "id": "d97a0a93",
   "metadata": {},
   "outputs": [
    {
     "name": "stdout",
     "output_type": "stream",
     "text": [
      "Probability of faster service: 0.7269\n"
     ]
    }
   ],
   "source": [
    "import numpy as np\n",
    "\n",
    "symulacje = 100000\n",
    "\n",
    "m = 7\n",
    "n = 5\n",
    "\n",
    "tau = 3\n",
    "\n",
    "serwis = 0\n",
    "\n",
    "for licznik_symulacji in range(symulacje):\n",
    "\n",
    "    czas_serwisu_m = np.random.exponential(tau, m)\n",
    "    total_czas_m = np.sum(czas_serwisu_m)\n",
    "\n",
    "    czas_serwisu_n = np.random.exponential(tau, n)\n",
    "    total_czas_n = np.sum(czas_serwisu_n)\n",
    "\n",
    "    if total_czas_n < total_czas_m:\n",
    "        serwis += 1\n",
    "\n",
    "prob = serwis / symulacje\n",
    "\n",
    "\n",
    "print(\"Probability of faster service:\", prob)\n"
   ]
  },
  {
   "cell_type": "code",
   "execution_count": null,
   "id": "b2b99d74",
   "metadata": {},
   "outputs": [],
   "source": []
  }
 ],
 "metadata": {
  "kernelspec": {
   "display_name": "Python 3 (ipykernel)",
   "language": "python",
   "name": "python3"
  },
  "language_info": {
   "codemirror_mode": {
    "name": "ipython",
    "version": 3
   },
   "file_extension": ".py",
   "mimetype": "text/x-python",
   "name": "python",
   "nbconvert_exporter": "python",
   "pygments_lexer": "ipython3",
   "version": "3.10.9"
  }
 },
 "nbformat": 4,
 "nbformat_minor": 5
}
